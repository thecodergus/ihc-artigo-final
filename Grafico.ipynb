{
 "cells": [
  {
   "cell_type": "code",
   "execution_count": 224,
   "id": "5723d4a9-8590-4279-875a-a1b3b719302b",
   "metadata": {},
   "outputs": [],
   "source": [
    "import pandas as pd\n",
    "from matplotlib import pyplot as plt\n",
    "import numpy as np"
   ]
  },
  {
   "cell_type": "code",
   "execution_count": 300,
   "id": "ff1e66b6-6460-45f1-b2b1-53834a740301",
   "metadata": {},
   "outputs": [],
   "source": [
    "df = pd.read_csv('Feedback IHC heatmaps.csv')"
   ]
  },
  {
   "cell_type": "code",
   "execution_count": 301,
   "id": "f2b45d60-bdb5-48b7-a70e-4a9b97442eb6",
   "metadata": {},
   "outputs": [],
   "source": [
    "df['Carimbo de data/hora'] = pd.to_datetime(df['Carimbo de data/hora'])"
   ]
  },
  {
   "cell_type": "code",
   "execution_count": 302,
   "id": "9d1b8de7-7b80-4d42-ab06-8cd9e31bb3cd",
   "metadata": {},
   "outputs": [],
   "source": [
    "df[\"hora\"] = df['Carimbo de data/hora'].dt.time"
   ]
  },
  {
   "cell_type": "code",
   "execution_count": 303,
   "id": "f4fe445c-cfbd-47a4-abc5-799265a082ea",
   "metadata": {},
   "outputs": [
    {
     "data": {
      "text/plain": [
       "0   2022-12-06 16:16:52+03:00\n",
       "1   2022-12-06 16:33:15+03:00\n",
       "2   2022-12-06 16:49:37+03:00\n",
       "3   2022-12-07 15:45:57+03:00\n",
       "4   2022-12-07 15:47:51+03:00\n",
       "5   2022-12-07 15:58:12+03:00\n",
       "6   2022-12-07 15:58:24+03:00\n",
       "7   2022-12-07 16:24:17+03:00\n",
       "8   2022-12-07 16:24:35+03:00\n",
       "9   2022-12-07 16:43:39+03:00\n",
       "Name: Carimbo de data/hora, dtype: datetime64[ns, pytz.FixedOffset(180)]"
      ]
     },
     "execution_count": 303,
     "metadata": {},
     "output_type": "execute_result"
    }
   ],
   "source": [
    "df.pop(\"Carimbo de data/hora\")"
   ]
  },
  {
   "cell_type": "code",
   "execution_count": 304,
   "id": "a0a629b5-114e-4336-9c82-76520dca2a64",
   "metadata": {},
   "outputs": [],
   "source": [
    "df = df.sort_values(by=\"hora\")"
   ]
  },
  {
   "cell_type": "code",
   "execution_count": 305,
   "id": "9082f4bf-454f-4ac4-bd89-7043c85fe3d5",
   "metadata": {},
   "outputs": [],
   "source": [
    "df = df[df.columns[:10]]"
   ]
  },
  {
   "cell_type": "code",
   "execution_count": 306,
   "id": "466943c3-2136-4c43-8d27-e9bdca8db578",
   "metadata": {},
   "outputs": [],
   "source": [
    "colunas = df.columns"
   ]
  },
  {
   "cell_type": "code",
   "execution_count": 307,
   "id": "e86ec691-67a6-4bff-bb1b-dabfb436f448",
   "metadata": {},
   "outputs": [],
   "source": [
    "df.to_csv(\"Feedback_saida.csv\")"
   ]
  }
 ],
 "metadata": {
  "kernelspec": {
   "display_name": "Python 3 (ipykernel)",
   "language": "python",
   "name": "python3"
  },
  "language_info": {
   "codemirror_mode": {
    "name": "ipython",
    "version": 3
   },
   "file_extension": ".py",
   "mimetype": "text/x-python",
   "name": "python",
   "nbconvert_exporter": "python",
   "pygments_lexer": "ipython3",
   "version": "3.10.6"
  }
 },
 "nbformat": 4,
 "nbformat_minor": 5
}
